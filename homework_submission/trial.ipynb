{
 "cells": [
  {
   "cell_type": "code",
   "execution_count": 6,
   "metadata": {},
   "outputs": [],
   "source": [
    "# Core packages for word embeddings\n",
    "import gensim\n",
    "from gensim.models import Word2Vec\n",
    "import gensim.downloader as api\n",
    "\n",
    "import re  # For preprocessing\n",
    "import pandas as pd  # For data handling\n",
    "from time import time  # To time our operations\n",
    "from collections import defaultdict  # For word frequency\n",
    "\n",
    "import spacy  # For preprocessing\n",
    "\n",
    "import logging  # Setting up the loggings to monitor gensim\n",
    "logging.basicConfig(format=\"%(levelname)s - %(asctime)s: %(message)s\", datefmt= '%H:%M:%S', level=logging.INFO)"
   ]
  },
  {
   "cell_type": "code",
   "execution_count": 7,
   "metadata": {},
   "outputs": [
    {
     "name": "stderr",
     "output_type": "stream",
     "text": [
      "INFO - 17:35:10: Creating /Users/kawaiyuen/gensim-data\n"
     ]
    },
    {
     "name": "stdout",
     "output_type": "stream",
     "text": [
      "[==================================================] 100.0% 104.8/104.8MB downloaded\n"
     ]
    },
    {
     "name": "stderr",
     "output_type": "stream",
     "text": [
      "INFO - 17:35:43: glove-twitter-25 downloaded\n",
      "INFO - 17:35:43: loading projection weights from /Users/kawaiyuen/gensim-data/glove-twitter-25/glove-twitter-25.gz\n",
      "INFO - 17:36:21: KeyedVectors lifecycle event {'msg': 'loaded (1193514, 25) matrix of type float32 from /Users/kawaiyuen/gensim-data/glove-twitter-25/glove-twitter-25.gz', 'binary': False, 'encoding': 'utf8', 'datetime': '2023-12-28T17:36:21.464747', 'gensim': '4.3.0', 'python': '3.11.5 (main, Sep 11 2023, 08:19:27) [Clang 14.0.6 ]', 'platform': 'macOS-10.16-x86_64-i386-64bit', 'event': 'load_word2vec_format'}\n"
     ]
    }
   ],
   "source": [
    "import numpy as np\n",
    "model_name = 'glove-twitter-25'\n",
    "w2v_small = api.load(model_name)"
   ]
  },
  {
   "cell_type": "code",
   "execution_count": 8,
   "metadata": {},
   "outputs": [
    {
     "name": "stdout",
     "output_type": "stream",
     "text": [
      "WEAT score: 1.05934739112854\n"
     ]
    }
   ],
   "source": [
    "# My code\n",
    "# Define word lists\n",
    "target_sancvirtue = ['pure','clean','sacred','saint','modest','clean','innocent','integrity']\n",
    "target_sancvice = ['disgust','disease','sin','dirt','stain','tarnish','debase','gross']\n",
    "attribute_male = ['he', 'his', 'him', 'son', 'father', 'boy', 'brother', 'man', 'male']\n",
    "attribute_female = ['she', 'her', 'hers', 'daughter', 'mother', 'girl', 'sister', 'woman', 'female']\n",
    "\n",
    "# Calculate the WEAT score\n",
    "def cosine_similarity(word, attribute_set):\n",
    "        word_vector = w2v_small[word]\n",
    "        attribute_vectors = [w2v_small[attr] for attr in attribute_set]\n",
    "        return np.mean([np.dot(word_vector, attr_vector) / (np.linalg.norm(word_vector) * np.linalg.norm(attr_vector))\n",
    "                        for attr_vector in attribute_vectors])\n",
    "\n",
    "def weat_score(word_set_X, word_set_Y, word_set_A, word_set_B):\n",
    "\n",
    "    X_association = np.mean([cosine_similarity(x, attribute_male) - cosine_similarity(x, attribute_female)\n",
    "                             for x in word_set_X])\n",
    "    Y_association = np.mean([cosine_similarity(y, attribute_male) - cosine_similarity(y, attribute_female)\n",
    "                             for y in word_set_Y])\n",
    "    A_association = np.mean([cosine_similarity(a, attribute_male) - cosine_similarity(a, attribute_female)\n",
    "                             for a in word_set_A])\n",
    "    B_association = np.mean([cosine_similarity(b, attribute_male) - cosine_similarity(b, attribute_female)\n",
    "                             for b in word_set_B])\n",
    "\n",
    "    return X_association - Y_association / np.sqrt(np.var([X_association, Y_association]) +\n",
    "                                                    np.var([A_association, B_association]))\n",
    "\n",
    "# Calculate the WEAT score for the given word sets\n",
    "weat_result = weat_score(target_sancvirtue, target_sancvice, attribute_male, attribute_female)\n",
    "\n",
    "# Step 4: Print the WEAT result\n",
    "print(f\"WEAT score: {weat_result}\")"
   ]
  }
 ],
 "metadata": {
  "kernelspec": {
   "display_name": "py311",
   "language": "python",
   "name": "python3"
  },
  "language_info": {
   "codemirror_mode": {
    "name": "ipython",
    "version": 3
   },
   "file_extension": ".py",
   "mimetype": "text/x-python",
   "name": "python",
   "nbconvert_exporter": "python",
   "pygments_lexer": "ipython3",
   "version": "3.11.5"
  }
 },
 "nbformat": 4,
 "nbformat_minor": 2
}
